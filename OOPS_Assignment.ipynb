{
  "nbformat": 4,
  "nbformat_minor": 0,
  "metadata": {
    "colab": {
      "provenance": []
    },
    "kernelspec": {
      "name": "python3",
      "display_name": "Python 3"
    },
    "language_info": {
      "name": "python"
    }
  },
  "cells": [
    {
      "cell_type": "markdown",
      "source": [
        "1.bold text**What are the five key concepts of Object-Oriented Programming (OOP)?\n",
        "**bold text**\n",
        "\n",
        "\n",
        "ans.\n",
        "1.Encapsulation: Restricting access to certain parts of an object and only allowing interaction through specified methods.\n",
        "2.Abstraction: Simplifying complex systems by showing only essential features and hiding the details.\n",
        "3.Inheritance: Allowing one class to acquire the properties and methods of another class.\n",
        "4.Polymorphism: Letting different objects respond to the same function or method in different ways.\n",
        "5.Modularity: Dividing a program into smaller parts (modules) that can be independently developed and tested."
      ],
      "metadata": {
        "id": "fqD6rK9F-CfQ"
      }
    },
    {
      "cell_type": "markdown",
      "source": [
        "**2.Write a Python class for a Car with attributes for make, model, and year. Include a method to display the car's information.**\n",
        "\n",
        "ans."
      ],
      "metadata": {
        "id": "j9asCuvD-R8g"
      }
    },
    {
      "cell_type": "code",
      "source": [
        "class Car:\n",
        "    def __init__(self, make, model, year):\n",
        "        self.make = make\n",
        "        self.model = model\n",
        "        self.year = year\n",
        "\n",
        "    def display_info(self):\n",
        "        print(f\"Car: {self.year} {self.make} {self.model}\")\n",
        "\n",
        "my_car = Car(\"Toyota\", \"Camry\", 2021)\n",
        "my_car.display_info()\n"
      ],
      "metadata": {
        "colab": {
          "base_uri": "https://localhost:8080/"
        },
        "id": "HxX-lGi--pfQ",
        "outputId": "f6a971d0-8e28-47af-e1d9-7f1546d0d4ef"
      },
      "execution_count": null,
      "outputs": [
        {
          "output_type": "stream",
          "name": "stdout",
          "text": [
            "Car: 2021 Toyota Camry\n"
          ]
        }
      ]
    },
    {
      "cell_type": "markdown",
      "source": [
        "**3.-Explain the difference between instance methods and class methods. Provide an example of each.**\n",
        "\n",
        "Ans.Instance Method: A method that works on an instance of the class and can access the instance's attributes. Example:"
      ],
      "metadata": {
        "id": "Bjvo_5P5-xk_"
      }
    },
    {
      "cell_type": "code",
      "source": [
        "class Dog:\n",
        "    def __init__(self, name):\n",
        "        self.name = name\n",
        "\n",
        "    def bark(self):\n",
        "        return f\"{self.name} says woof!\""
      ],
      "metadata": {
        "id": "WlYQ3Aq3-4To"
      },
      "execution_count": null,
      "outputs": []
    },
    {
      "cell_type": "markdown",
      "source": [
        "Definition: Class methods are associated with the class itself rather than any particular instance. They take cls as the first parameter, which refers to the class. Class methods can modify class state that applies across all instances."
      ],
      "metadata": {
        "id": "PmIo-xoB_ADw"
      }
    },
    {
      "cell_type": "code",
      "source": [
        "class Dog:\n",
        "    species = \"Canis familiaris\"\n",
        "\n",
        "    @classmethod\n",
        "    def get_species(cls):\n",
        "        return cls.species"
      ],
      "metadata": {
        "id": "R5NMN7Mn_Dkx"
      },
      "execution_count": null,
      "outputs": []
    },
    {
      "cell_type": "markdown",
      "source": [
        "**4.How does Python implement method overloading? Give an example.**\n",
        "\n",
        "Ans.Python Method Overloading: Python does not support traditional method overloading (i.e., multiple methods with the same name but different signatures). Instead, you can achieve similar functionality using default arguments or by checking the types of arguments within a single"
      ],
      "metadata": {
        "id": "ai4zDV2p_Go4"
      }
    },
    {
      "cell_type": "code",
      "source": [
        "class Calculator:\n",
        "    def add(self, a, b, c=0):\n",
        "        return a + b + c\n",
        "\n",
        "calc = Calculator()\n",
        "print(calc.add(10, 20))      # Output: 30\n",
        "print(calc.add(10, 20, 30))  # Output: 60"
      ],
      "metadata": {
        "colab": {
          "base_uri": "https://localhost:8080/"
        },
        "id": "3Nc1zAuY_Rl3",
        "outputId": "9735cddc-e6e0-4ff5-9860-073b0988ee88"
      },
      "execution_count": null,
      "outputs": [
        {
          "output_type": "stream",
          "name": "stdout",
          "text": [
            "30\n",
            "60\n"
          ]
        }
      ]
    },
    {
      "cell_type": "markdown",
      "source": [
        "**5.What are the three types of access modifiers in Python? How are they denoted?**\n",
        "\n",
        "ans.Three Types of Access Modifiers in Python:\n",
        "Public: Accessible from anywhere (e.g., self.attribute). Protected: Indicated with a single underscore (_attribute), intended for internal use but can still be accessed outside. Private: Indicated with a double underscore (__attribute), not directly accessible from outside the class."
      ],
      "metadata": {
        "id": "Ztw2nDW4_Uv3"
      }
    },
    {
      "cell_type": "markdown",
      "source": [
        "**6.-Describe the five types of inheritance in Python. Provide a simple example of multiple inheritance.**\n",
        "\n",
        "Ans.Five Types of Inheritance in Python:\n",
        "Single Inheritance: A class inherits from one parent class. Multiple Inheritance: A class inherits from more than one parent class. Multilevel Inheritance: A class inherits from a class, which in turn inherits from another class. Hierarchical Inheritance: Multiple classes inherit from the same parent class. Hybrid Inheritance: A combination of two or more types of inheritance\n",
        "\n"
      ],
      "metadata": {
        "id": "NnNf1lS6_e5A"
      }
    },
    {
      "cell_type": "code",
      "source": [
        "class Parent1:\n",
        "    def method1(self):\n",
        "        return \"Method from Parent1\"\n",
        "\n",
        "class Parent2:\n",
        "    def method2(self):\n",
        "        return \"Method from Parent2\"\n",
        "\n",
        "class Child(Parent1, Parent2):\n",
        "    def method3(self):\n",
        "        return \"Method from Child\"\n",
        "\n",
        "# Creating an instance of Child\n",
        "child_instance = Child()\n",
        "print(child_instance.method1())\n",
        "print(child_instance.method2())\n",
        "print(child_instance.method3())"
      ],
      "metadata": {
        "colab": {
          "base_uri": "https://localhost:8080/"
        },
        "id": "I4D1W5a5_ong",
        "outputId": "27b9bd31-4829-41fc-f529-87bae0f559b6"
      },
      "execution_count": null,
      "outputs": [
        {
          "output_type": "stream",
          "name": "stdout",
          "text": [
            "Method from Parent1\n",
            "Method from Parent2\n",
            "Method from Child\n"
          ]
        }
      ]
    },
    {
      "cell_type": "markdown",
      "source": [
        "**7.What is the Method Resolution Order (MRO) in Python? How can you retrieve it programmatically?**\n",
        "\n",
        "Ans.Method Resolution Order (MRO): Determines the order in which base classes are searched when a method is called. You can retrieve it programmatically using ClassName.mro or ClassName.mro()."
      ],
      "metadata": {
        "id": "UPOkMiiT_sWY"
      }
    },
    {
      "cell_type": "code",
      "source": [
        "print(Child.mro())"
      ],
      "metadata": {
        "colab": {
          "base_uri": "https://localhost:8080/"
        },
        "id": "7TUpp0Hz_5Ap",
        "outputId": "aed82899-5040-4e92-c82f-60d48f741708"
      },
      "execution_count": null,
      "outputs": [
        {
          "output_type": "stream",
          "name": "stdout",
          "text": [
            "[<class '__main__.Child'>, <class '__main__.Parent1'>, <class '__main__.Parent2'>, <class 'object'>]\n"
          ]
        }
      ]
    },
    {
      "cell_type": "markdown",
      "source": [
        "Double-click (or enter) to edit"
      ],
      "metadata": {
        "id": "y_8VYfBH__o4"
      }
    },
    {
      "cell_type": "markdown",
      "source": [
        "**8.Create an abstract base class Shape with an abstract method area(). Then create two subclasses Circle and Rectangle that implementthe area() method.**\n",
        "\n",
        "Ans."
      ],
      "metadata": {
        "id": "wCzLPaOlAGX4"
      }
    },
    {
      "cell_type": "code",
      "source": [
        "from abc import ABC, abstractmethod\n",
        "import math\n",
        "\n",
        "class Shape(ABC):\n",
        "    @abstractmethod\n",
        "    def area(self):\n",
        "        pass\n",
        "\n",
        "class Circle(Shape):\n",
        "    def __init__(self, radius):\n",
        "        self.radius = radius\n",
        "\n",
        "    def area(self):\n",
        "        return math.pi * (self.radius ** 2)\n",
        "\n",
        "class Rectangle(Shape):\n",
        "    def __init__(self, width, height):\n",
        "        self.width = width\n",
        "        self.height = height\n",
        "\n",
        "    def area(self):\n",
        "        return self.width * self.height\n",
        "\n",
        "# Example usage:\n",
        "circle = Circle(5)\n",
        "rectangle = Rectangle(4, 6)\n",
        "\n",
        "print(circle.area())      # Output: 78.53981633974483\n",
        "print(rectangle.area())"
      ],
      "metadata": {
        "colab": {
          "base_uri": "https://localhost:8080/"
        },
        "id": "KcALyOjbATpw",
        "outputId": "73d7398d-187f-40f4-91f7-a286dc4ea9ab"
      },
      "execution_count": null,
      "outputs": [
        {
          "output_type": "stream",
          "name": "stdout",
          "text": [
            "78.53981633974483\n",
            "24\n"
          ]
        }
      ]
    },
    {
      "cell_type": "markdown",
      "source": [
        "**9.Demonstrate polymorphism by creating a function that can work with different shape objects to calculate and print their areas.**\n",
        "\n",
        "Ans.Polymorphism allows different classes to be treated as instances of the same class through a common interface. In this case, we can create a function that accepts different shape objects and calculates their areas using the area() method defined in each shape class. Here’s how you can demonstrate this\n"
      ],
      "metadata": {
        "id": "H7h81LerAYu4"
      }
    },
    {
      "cell_type": "code",
      "source": [
        "def print_area(shape):\n",
        "    print(f\"The area is: {shape.area()}\")\n",
        "\n",
        "circle = Circle(5)\n",
        "rectangle = Rectangle(4, 6)\n",
        "print_area(circle)\n",
        "print_area(rectangle)\n"
      ],
      "metadata": {
        "colab": {
          "base_uri": "https://localhost:8080/"
        },
        "id": "lRfyd_VpAnIR",
        "outputId": "0068fc0c-646b-4106-d175-510cdebd38d6"
      },
      "execution_count": null,
      "outputs": [
        {
          "output_type": "stream",
          "name": "stdout",
          "text": [
            "The area is: 78.53981633974483\n",
            "The area is: 24\n"
          ]
        }
      ]
    },
    {
      "cell_type": "markdown",
      "source": [
        "**10.Implement encapsulation in a BankAccount class with private attributes for balance and account_number. Include methods for deposit, withdrawal, and balance inquiry**\n"
      ],
      "metadata": {
        "id": "sSqLuGVGAtio"
      }
    },
    {
      "cell_type": "code",
      "source": [
        "class BankAccount:\n",
        "    def __init__(self, account_number, initial_balance=0):\n",
        "        self.__account_number = account_number  # Private attribute\n",
        "        self.__balance = initial_balance          # Private attribute\n",
        "\n",
        "    def deposit(self, amount):\n",
        "        if amount > 0:\n",
        "            self.__balance += amount  # Update balance\n",
        "            print(f\"Deposited: ${amount:.2f}\")\n",
        "        else:\n",
        "            print(\"Deposit amount must be positive.\")\n",
        "\n",
        "    def withdraw(self, amount):\n",
        "        if 0 < amount <= self.__balance:\n",
        "            self.__balance -= amount  # Update balance\n",
        "            print(f\"Withdrew: ${amount:.2f}\")\n",
        "        else:\n",
        "            print(\"Insufficient funds or invalid withdrawal amount.\")\n",
        "\n",
        "    def get_balance(self):\n",
        "        return self.__balance  # Return current balance\n",
        "\n",
        "# Example usage:\n",
        "account = BankAccount(\"123456789\", 1000)\n",
        "\n",
        "account.deposit(200)          # Output: Deposited: $200.00\n",
        "account.withdraw(150)         # Output: Withdrew: $150.00\n",
        "print(f\"Current balance: ${account.get_balance():.2f}\")  # Output: Current balance: $1050.00\n"
      ],
      "metadata": {
        "colab": {
          "base_uri": "https://localhost:8080/"
        },
        "id": "Oq9WuHm0AyiQ",
        "outputId": "bc352a12-6aeb-4ee4-90a6-7467d090918a"
      },
      "execution_count": null,
      "outputs": [
        {
          "output_type": "stream",
          "name": "stdout",
          "text": [
            "Deposited: $200.00\n",
            "Withdrew: $150.00\n",
            "Current balance: $1050.00\n"
          ]
        }
      ]
    },
    {
      "cell_type": "markdown",
      "source": [
        "**11.Write a class that overrides the __str__ and __add__ magic methods. What will these methods allow you to do?**"
      ],
      "metadata": {
        "id": "exZ_vqwrA2Y3"
      }
    },
    {
      "cell_type": "code",
      "source": [
        "class MyClass:\n",
        "    def __init__(self, value):\n",
        "        self.value = value\n",
        "\n",
        "    def __str__(self):\n",
        "        return f\"MyClass with value: {self.value}\"\n",
        "\n",
        "    def __add__(self, other):\n",
        "        return MyClass(self.value + other.value)"
      ],
      "metadata": {
        "id": "_2ixJAhdA6D4"
      },
      "execution_count": null,
      "outputs": []
    },
    {
      "cell_type": "markdown",
      "source": [
        "Double-click (or enter) to edit"
      ],
      "metadata": {
        "id": "qPNhXdJhBCJ3"
      }
    },
    {
      "cell_type": "markdown",
      "source": [
        "**13.Explain the concept of the Diamond Problem in multiple inheritance. How does Python resolve it?**\n",
        "\n",
        "\n",
        "ans--Diamond Problem in Multiple Inheritance: Occurs when a class inherits from two classes that share a common base class. Python resolves this using the Method Resolution Order (MRO), which ensures that each base class is only called once in the hierarchy."
      ],
      "metadata": {
        "id": "e0rPOx5IBDHw"
      }
    },
    {
      "cell_type": "markdown",
      "source": [
        "**14.Write a class method that keeps track of the number of instances created from a class.**"
      ],
      "metadata": {
        "id": "wsVODVsJBK0m"
      }
    },
    {
      "cell_type": "code",
      "source": [
        "class InstanceCounter:\n",
        "    count = 0  # Class variable to keep track of the number of instances\n",
        "\n",
        "    def __init__(self):\n",
        "        InstanceCounter.count += 1  # Increment the count when a new instance is created\n",
        "\n",
        "    @classmethod\n",
        "    def get_instance_count(cls):\n",
        "        return cls.count  # Return the current count of instances\n",
        "\n",
        "# Example usage\n",
        "instance1 = InstanceCounter()\n",
        "instance2 = InstanceCounter()\n",
        "instance3 = InstanceCounter()\n",
        "\n",
        "print(InstanceCounter.get_instance_count())"
      ],
      "metadata": {
        "colab": {
          "base_uri": "https://localhost:8080/"
        },
        "id": "OLWKYhk5BBh-",
        "outputId": "d9003538-17c2-4fa3-ca46-296a3e0e49bf"
      },
      "execution_count": null,
      "outputs": [
        {
          "output_type": "stream",
          "name": "stdout",
          "text": [
            "3\n"
          ]
        }
      ]
    },
    {
      "cell_type": "markdown",
      "source": [
        "**15.Implement a static method in a class that checks if a given year is a leap year.**"
      ],
      "metadata": {
        "id": "bXn2MMzXBrlH"
      }
    },
    {
      "cell_type": "code",
      "source": [
        "class MyClass:\n",
        "    @staticmethod\n",
        "    def is_leap_year(year):\n",
        "        if (year % 4 == 0 and year % 100 != 0) or (year % 400 == 0):\n",
        "            return True\n",
        "        return False\n"
      ],
      "metadata": {
        "id": "h1DlrnzdByK-"
      },
      "execution_count": null,
      "outputs": []
    }
  ]
}