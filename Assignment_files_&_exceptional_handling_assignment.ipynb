{
  "nbformat": 4,
  "nbformat_minor": 0,
  "metadata": {
    "colab": {
      "provenance": []
    },
    "kernelspec": {
      "name": "python3",
      "display_name": "Python 3"
    },
    "language_info": {
      "name": "python"
    }
  },
  "cells": [
    {
      "cell_type": "markdown",
      "source": [
        "**1. Discuss the scenarios where multithreading is preferable to multiprocessing and scenarios where multiprocessing is a better choice.**\n",
        "\n",
        "Ans..When Multithreading is Better: I/O-Bound Tasks: Tasks like reading/writing to files, database operations, or web scraping, where threads can wait while the CPU does other things. Lightweight Parallelism: When tasks share memory and need to communicate often, multithreading avoids the overhead of creating multiple processes. Limited Resources: When you can’t afford to create multiple processes due to memory constraints.\n",
        "When Multiprocessing is Better: CPU-Bound Tasks: Tasks like numerical computations or data processing that require heavy CPU usage. Each process gets its own CPU core, avoiding Python's GIL (Global Interpreter Lock). Fault Isolation: If you need better isolation (e.g., one task crashing shouldn’t affect others), multiprocessing is safer. Scalability: When working on tasks that benefit from distributed systems or multi-core architectures."
      ],
      "metadata": {
        "id": "7XBrnXqGD9X9"
      }
    },
    {
      "cell_type": "markdown",
      "source": [
        "**2.Describe what a process pool is and how it helps in managing multiple processes efficiently.**\n",
        "\n",
        "Ans..A process pool is a collection of pre-initialized worker processes used to manage and execute tasks in parallel. Instead of creating and destroying processes repeatedly, the pool reuses processes, reducing overhead. It also helps distribute tasks efficiently among available workers, balancing the load and simplifying parallel execution. This is especially useful for handling a large number of tasks with limited system resources."
      ],
      "metadata": {
        "id": "hVZMs3utEM3N"
      }
    },
    {
      "cell_type": "markdown",
      "source": [
        "**3. Explain what multiprocessing is and why it is used in Python programs.**\n",
        "Ans..Multiprocessing in Python is the ability to run multiple processes simultaneously, taking advantage of multiple CPU cores. It is used to overcome the limitations of the Global Interpreter Lock (GIL), which prevents true parallelism in multithreaded Python programs. By using separate processes, each with its own memory space, multiprocessing allows Python programs to handle CPU-intensive tasks efficiently and improve performance on multi-core systems."
      ],
      "metadata": {
        "id": "n5ieLLWaEpPE"
      }
    },
    {
      "cell_type": "markdown",
      "source": [
        "**4. Write a Python program using multithreading where one thread adds numbers to a list, and another thread removes numbers from the list. Implement a mechanism to avoid race conditions using threading.Lock.**\n",
        "Ans.."
      ],
      "metadata": {
        "id": "xfS37OJbEy9E"
      }
    },
    {
      "cell_type": "code",
      "source": [
        "import threading\n",
        "\n",
        "# Shared resource and lock\n",
        "shared_list = []\n",
        "lock = threading.Lock()\n",
        "\n",
        "# Function to add numbers\n",
        "def add_numbers():\n",
        "    for i in range(5):\n",
        "        with lock:  # Ensure only one thread modifies the list at a time\n",
        "            shared_list.append(i)\n",
        "            print(f\"Added: {i}\")\n",
        "\n",
        "# Function to remove numbers\n",
        "def remove_numbers():\n",
        "    for _ in range(5):\n",
        "        with lock:  # Ensure safe access to the list\n",
        "            if shared_list:  # Check if list is not empty\n",
        "                removed = shared_list.pop(0)\n",
        "                print(f\"Removed: {removed}\")\n",
        "\n",
        "# Create and start threads\n",
        "t1 = threading.Thread(target=add_numbers)\n",
        "t2 = threading.Thread(target=remove_numbers)\n",
        "\n",
        "t1.start()\n",
        "t2.start()\n",
        "\n",
        "# Wait for threads to finish\n",
        "t1.join()\n",
        "t2.join()\n",
        "\n",
        "print(\"Final list:\", shared_list)"
      ],
      "metadata": {
        "colab": {
          "base_uri": "https://localhost:8080/"
        },
        "id": "-qgIv0WlFHQU",
        "outputId": "06250d8e-92f2-4e15-ad53-9c184e9e93db"
      },
      "execution_count": 1,
      "outputs": [
        {
          "output_type": "stream",
          "name": "stdout",
          "text": [
            "Added: 0\n",
            "Added: 1\n",
            "Added: 2\n",
            "Added: 3\n",
            "Added: 4\n",
            "Removed: 0\n",
            "Removed: 1\n",
            "Removed: 2\n",
            "Removed: 3\n",
            "Removed: 4\n",
            "Final list: []\n"
          ]
        }
      ]
    },
    {
      "cell_type": "markdown",
      "source": [
        "**5. Describe the methods and tools available in Python for safely sharing data between threads and processes.**\n",
        "Ans..Methods and Tools for Safely Sharing Data:\n",
        "For Threads (within the same process):\n",
        "threading.Lock: Ensures only one thread accesses shared data at a time.\n",
        "threading.RLock: A reentrant lock allowing a thread to acquire the same lock multiple times.\n",
        "threading.Condition: Enables threads to wait for a certain condition to be met.\n",
        "threading.Semaphore: Limits the number of threads that can access a resource simultaneously.\n",
        "Thread-safe Data Structures:\n",
        "queue.Queue: A thread-safe FIFO queue for sharing data.\n",
        "For Processes (across multiple memory spaces):\n",
        "multiprocessing.Queue: A thread- and process-safe queue for communication between processes.\n",
        "multiprocessing.Pipe: Enables bidirectional communication between two processes.\n",
        "multiprocessing.Value and multiprocessing.Array: Share simple data types or arrays between processes.\n",
        "Manager: Provides shared data structures like lists, dictionaries, etc., accessible by multiple processes."
      ],
      "metadata": {
        "id": "3KK7ayBrFNfE"
      }
    },
    {
      "cell_type": "markdown",
      "source": [
        "**6. Discuss why it's crucial to handle exceptions in concurrent programs and the techniques available for doing so?**\n",
        "Ans..Importance of Handling Exceptions in Concurrent Programs: Stability: Unhandled exceptions in threads or processes can cause crashes or unpredictable behavior. Resource Management: Proper handling ensures resources like locks, files, or memory are released safely. Debugging: Exceptions give insights into issues, aiding in debugging. Continuation: Allows the program to continue running even if one task fails. Techniques for Handling Exceptions: Try-Except Blocks: Wrap concurrent task logic in try-except to catch errors. Thread/Process Monitoring: Use Thread.is_alive() or Process.exitcode to detect failures. Error Logging: Log exceptions using libraries like logging for post-analysis. Return/Error Flags: Return status or error messages from threads/processes. Higher-Level Libraries: Use tools like concurrent.futures for built-in exception handling in pools."
      ],
      "metadata": {
        "id": "cYL5p6hzFgRL"
      }
    },
    {
      "cell_type": "markdown",
      "source": [
        "**7. Create a program that uses a thread pool to calculate the factorial of numbers from 1 to 10 concurrently. Use concurrent.futures.ThreadPoolExecutor to manage the threads.**\n",
        "Ans.."
      ],
      "metadata": {
        "id": "qCZI8hmUF3zT"
      }
    },
    {
      "cell_type": "code",
      "source": [
        "from concurrent.futures import ThreadPoolExecutor\n",
        "import math\n",
        "\n",
        "# Function to calculate factorial\n",
        "def calculate_factorial(n):\n",
        "    return f\"Factorial of {n}: {math.factorial(n)}\"\n",
        "\n",
        "# Create thread pool and calculate factorials\n",
        "with ThreadPoolExecutor() as executor:\n",
        "    results = executor.map(calculate_factorial, range(1, 11))\n",
        "\n",
        "# Print results\n",
        "for result in results:\n",
        "    print(result)"
      ],
      "metadata": {
        "colab": {
          "base_uri": "https://localhost:8080/"
        },
        "id": "kWtcKLvIGJAE",
        "outputId": "5024494a-b6c4-49c0-ff66-2f0cb7a6e9e9"
      },
      "execution_count": 2,
      "outputs": [
        {
          "output_type": "stream",
          "name": "stdout",
          "text": [
            "Factorial of 1: 1\n",
            "Factorial of 2: 2\n",
            "Factorial of 3: 6\n",
            "Factorial of 4: 24\n",
            "Factorial of 5: 120\n",
            "Factorial of 6: 720\n",
            "Factorial of 7: 5040\n",
            "Factorial of 8: 40320\n",
            "Factorial of 9: 362880\n",
            "Factorial of 10: 3628800\n"
          ]
        }
      ]
    },
    {
      "cell_type": "markdown",
      "source": [
        "**8.8. Create a Python program that uses multiprocessing.Pool to compute the square of numbers from 1 to 10 in\n",
        "parallel. Measure the time taken to perform this computation using a pool of different sizes (e.g., 2, 4, 8 processes).**"
      ],
      "metadata": {
        "id": "JC_Zn8cwGLHU"
      }
    },
    {
      "cell_type": "code",
      "source": [
        "from multiprocessing import Pool\n",
        "import time\n",
        "\n",
        "# Function to calculate square\n",
        "def calculate_square(n):\n",
        "    return n * n\n",
        "\n",
        "# Measure time with different pool sizes\n",
        "for pool_size in [2, 4, 8,10]:\n",
        "    start_time = time.time()\n",
        "    with Pool(pool_size) as pool:\n",
        "        results = pool.map(calculate_square, range(1, 11))\n",
        "    print(f\"Pool Size {pool_size}: Results {results}, Time Taken: {time.time() - start_time:.4f} seconds\")"
      ],
      "metadata": {
        "colab": {
          "base_uri": "https://localhost:8080/"
        },
        "id": "5bJhsAF6GaBD",
        "outputId": "5893fff1-4da7-4bb5-cce2-c06dce87d53a"
      },
      "execution_count": 3,
      "outputs": [
        {
          "output_type": "stream",
          "name": "stdout",
          "text": [
            "Pool Size 2: Results [1, 4, 9, 16, 25, 36, 49, 64, 81, 100], Time Taken: 0.0318 seconds\n",
            "Pool Size 4: Results [1, 4, 9, 16, 25, 36, 49, 64, 81, 100], Time Taken: 0.0469 seconds\n",
            "Pool Size 8: Results [1, 4, 9, 16, 25, 36, 49, 64, 81, 100], Time Taken: 0.0844 seconds\n",
            "Pool Size 10: Results [1, 4, 9, 16, 25, 36, 49, 64, 81, 100], Time Taken: 0.1485 seconds\n"
          ]
        }
      ]
    }
  ]
}