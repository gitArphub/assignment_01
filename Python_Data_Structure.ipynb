{
  "nbformat": 4,
  "nbformat_minor": 0,
  "metadata": {
    "colab": {
      "provenance": []
    },
    "kernelspec": {
      "name": "python3",
      "display_name": "Python 3"
    },
    "language_info": {
      "name": "python"
    }
  },
  "cells": [
    {
      "cell_type": "markdown",
      "source": [
        "**1.Discuss string slicing and provide examples.**\n",
        "\n",
        "**Ans.**String slicing is extracting a portion of a string using a specific range of indices."
      ],
      "metadata": {
        "id": "yeZ-o1ykk_X1"
      }
    },
    {
      "cell_type": "code",
      "source": [
        "text = \"Hello, World!\"\n",
        "\n",
        "print(text[0:5])      # 'Hello'\n",
        "print(text[:5])        # 'Hello' (same as above)\n",
        "print(text[7:])        # 'World!'"
      ],
      "metadata": {
        "colab": {
          "base_uri": "https://localhost:8080/"
        },
        "id": "Fl77qVOOmUpk",
        "outputId": "e2c20291-e5ea-4deb-d12d-c7ffc426f4d4"
      },
      "execution_count": 1,
      "outputs": [
        {
          "output_type": "stream",
          "name": "stdout",
          "text": [
            "Hello\n",
            "Hello\n",
            "World!\n"
          ]
        }
      ]
    },
    {
      "cell_type": "markdown",
      "source": [
        "**2.Explain the key features of lists in Python.**\n",
        "\n",
        "**Ans.**Ordered,Heterogeneous Dynamic size,mutable collections of elements. Think of shopping lists or task lists. Lists can hold items of various data types (numbers, strings, even other lists!).this is a key featues."
      ],
      "metadata": {
        "id": "M8qb6dFOmqds"
      }
    },
    {
      "cell_type": "code",
      "source": [
        "list[\"a\",11,1.2]"
      ],
      "metadata": {
        "id": "K0_Xt2nmpCaM"
      },
      "execution_count": null,
      "outputs": []
    },
    {
      "cell_type": "code",
      "source": [
        "type(list)"
      ],
      "metadata": {
        "colab": {
          "base_uri": "https://localhost:8080/"
        },
        "id": "ZYLkm09-pLi8",
        "outputId": "762795fe-207b-48b6-d856-15460b1e6d88"
      },
      "execution_count": 2,
      "outputs": [
        {
          "output_type": "execute_result",
          "data": {
            "text/plain": [
              "type"
            ]
          },
          "metadata": {},
          "execution_count": 2
        }
      ]
    },
    {
      "cell_type": "markdown",
      "source": [
        "**3.Describe how to access, modify, and delete elements in a list with examples.**\n",
        "\n",
        "**Ans.** Access Elements meaning of Use indexing or slicing and Modify Elements is Change elements via indexing on the other side Delete Elements is Use del keyword."
      ],
      "metadata": {
        "id": "mRudFEBEpQZ8"
      }
    },
    {
      "cell_type": "code",
      "source": [
        "my_list = [\"a\", 20, 30.30, 40]\n",
        "print(my_list[1])\n",
        "print(my_list[-1])\n",
        "print(my_list[1:3])"
      ],
      "metadata": {
        "colab": {
          "base_uri": "https://localhost:8080/"
        },
        "id": "4LBJgZ4FqmXs",
        "outputId": "274e9522-c49f-4548-d6a6-8e67cf3a7d68"
      },
      "execution_count": 5,
      "outputs": [
        {
          "output_type": "stream",
          "name": "stdout",
          "text": [
            "20\n",
            "40\n",
            "[20, 30.3]\n"
          ]
        }
      ]
    },
    {
      "cell_type": "code",
      "source": [
        "my_list[2] = 35 #modify\n",
        "print(my_list)"
      ],
      "metadata": {
        "colab": {
          "base_uri": "https://localhost:8080/"
        },
        "id": "MZrpev80sAQV",
        "outputId": "3469ff59-b4e6-41ec-c4d3-2ce49dec8e0a"
      },
      "execution_count": 8,
      "outputs": [
        {
          "output_type": "stream",
          "name": "stdout",
          "text": [
            "['a', 35, 35]\n"
          ]
        }
      ]
    },
    {
      "cell_type": "code",
      "source": [
        "del my_list[1]         # Removes element\n",
        "print(my_list)"
      ],
      "metadata": {
        "colab": {
          "base_uri": "https://localhost:8080/"
        },
        "id": "KH0QNiFNsHNz",
        "outputId": "1548af55-8f9e-4f60-f828-13abc21ee215"
      },
      "execution_count": 9,
      "outputs": [
        {
          "output_type": "stream",
          "name": "stdout",
          "text": [
            "['a', 35]\n"
          ]
        }
      ]
    },
    {
      "cell_type": "markdown",
      "source": [
        "**4.Compare and contrast tuples and lists with examples**\n",
        "\n",
        "**Ans.**Mutability:\n",
        "List: Can change mutable\n",
        "Tuple: Can't change immutable\n",
        "List Uses [ ] brackets and tupple uses () this brackets and List Best for data that changes (e.g., shopping cart).\n",
        "Tuple Ideal for fixed data (e.g., coordinates)."
      ],
      "metadata": {
        "id": "aoLsj33zsZCE"
      }
    },
    {
      "cell_type": "code",
      "source": [
        "lis=[\"n\",1,2,3,4]\n",
        "lis[2]=5\n",
        "print(lis)"
      ],
      "metadata": {
        "colab": {
          "base_uri": "https://localhost:8080/"
        },
        "id": "HDRhuPNiuPo8",
        "outputId": "82c75fa5-f8e6-4782-cacf-9121c7b77ac9"
      },
      "execution_count": 11,
      "outputs": [
        {
          "output_type": "stream",
          "name": "stdout",
          "text": [
            "['n', 1, 5, 3, 4]\n"
          ]
        }
      ]
    },
    {
      "cell_type": "markdown",
      "source": [
        "**5.Describe the key features of sets and provide examples of their use.**\n",
        "\n",
        "**Ans.**Key Features of Sets in Python:\n",
        "Unordered: No specific order of elements.\n",
        "Unique Elements: No duplicates allowed.\n",
        "Mutable: Elements can be added or removed.\n",
        "Heterogeneous: Can store different data types.\n",
        "No Indexing/Slicing: Cannot access elements by index.\n",
        "Supports Set Operations: Union, Intersection, Difference, etc."
      ],
      "metadata": {
        "id": "24LPUjDjuroE"
      }
    },
    {
      "cell_type": "code",
      "source": [
        "\n",
        "my_set = {1, 2, 3, 4}\n",
        "my_set.add(5)\n",
        "print(my_set)\n",
        "\n",
        "my_set.remove(3)\n",
        "print(my_set)\n",
        "\n",
        "set_a = {1, 2, 3}\n",
        "set_b = {3, 4, 5}\n",
        "print(set_a | set_b) # Union: {1, 2, 3, 4, 5}\n",
        "print(set_a & set_b)"
      ],
      "metadata": {
        "colab": {
          "base_uri": "https://localhost:8080/"
        },
        "id": "M_sDRiXAvNzD",
        "outputId": "a27e239e-85a3-4f5b-ce54-4195e25abfd2"
      },
      "execution_count": 13,
      "outputs": [
        {
          "output_type": "stream",
          "name": "stdout",
          "text": [
            "{1, 2, 3, 4, 5}\n",
            "{1, 2, 4, 5}\n",
            "{1, 2, 3, 4, 5}\n",
            "{3}\n"
          ]
        }
      ]
    },
    {
      "cell_type": "markdown",
      "source": [
        "**6.Discuss the use cases of tuples and sets in Python programming.**\n",
        "\n",
        "**Ans.**Tuples: Best for fixed, structured data. Sets: Great for uniqueness and fast lookups."
      ],
      "metadata": {
        "id": "vCQcee-1vmmc"
      }
    },
    {
      "cell_type": "code",
      "source": [
        "coord = (10, 20)\n",
        "color = (255, 0, 0)  # Red and mmutable Data: Store constant values (e.g., coordinates or RGB colors).\n",
        "type(color)"
      ],
      "metadata": {
        "colab": {
          "base_uri": "https://localhost:8080/"
        },
        "id": "fV6DB_hBxbq_",
        "outputId": "8a2d44ba-de96-4c3b-d23f-b9e219e23d7c"
      },
      "execution_count": 14,
      "outputs": [
        {
          "output_type": "execute_result",
          "data": {
            "text/plain": [
              "tuple"
            ]
          },
          "metadata": {},
          "execution_count": 14
        }
      ]
    },
    {
      "cell_type": "code",
      "source": [
        "items = [1, 2, 2, 3]\n",
        "ui = set(items)  # {1, 2, 3} #Remove Duplicates: Get unique items from a list."
      ],
      "metadata": {
        "id": "wBqDyPftxcDs"
      },
      "execution_count": 16,
      "outputs": []
    },
    {
      "cell_type": "code",
      "source": [
        "type(ui)"
      ],
      "metadata": {
        "colab": {
          "base_uri": "https://localhost:8080/"
        },
        "id": "tghl5vJ8xtz8",
        "outputId": "54c5f200-bd97-4f00-d978-84e1d4ff6a8b"
      },
      "execution_count": 17,
      "outputs": [
        {
          "output_type": "execute_result",
          "data": {
            "text/plain": [
              "set"
            ]
          },
          "metadata": {},
          "execution_count": 17
        }
      ]
    },
    {
      "cell_type": "markdown",
      "source": [
        "**7.Describe how to add, modify, and delete items in a dictionary with examples**\n",
        "\n",
        "**Ans.**Add: Use direct assignment (dictionary_name[key] = value) or .update() method.\n",
        "Access: Retrieve values using their keys (value = dictionary_name[key]).\n",
        "Remove: Use del dictionary_name[key], .pop(key), or .popitem()."
      ],
      "metadata": {
        "id": "vEZvuN9Wx-fE"
      }
    },
    {
      "cell_type": "code",
      "source": [
        "my_dict = {'name': 'Alice'}\n",
        "my_dict['age'] = 30\n",
        "print(my_dict)\n",
        "my_dict['age'] = 31\n",
        "print(my_dict)\n",
        "del my_dict['name']\n",
        "print(my_dict)\n",
        "type(my_dict)#type"
      ],
      "metadata": {
        "colab": {
          "base_uri": "https://localhost:8080/"
        },
        "id": "-t-MERaXye-U",
        "outputId": "d57e11ff-5783-4231-db87-51673d194f36"
      },
      "execution_count": 21,
      "outputs": [
        {
          "output_type": "stream",
          "name": "stdout",
          "text": [
            "{'name': 'Alice', 'age': 30}\n",
            "{'name': 'Alice', 'age': 31}\n",
            "{'age': 31}\n"
          ]
        },
        {
          "output_type": "execute_result",
          "data": {
            "text/plain": [
              "dict"
            ]
          },
          "metadata": {},
          "execution_count": 21
        }
      ]
    },
    {
      "cell_type": "markdown",
      "source": [
        "**8.Discuss the importance of dictionary keys being immutable and provide examples**\n",
        "\n",
        "**Ans.**In Python, dictionary keys must be immutable to ensure the keys value doesnt change, which allows for consistent hashing (how Python finds keys quickly). If keys were mutable, it could break lookups and data integrity."
      ],
      "metadata": {
        "id": "jtzQ9c3XzE2M"
      }
    },
    {
      "cell_type": "code",
      "source": [
        "my_dict = {1: \"one\", (2, 3): \"tuple key\", \"name\": \"Alice\"}\n",
        "print(my_dict[(2, 3)])"
      ],
      "metadata": {
        "colab": {
          "base_uri": "https://localhost:8080/"
        },
        "id": "p2BWWL61ze09",
        "outputId": "621f6643-a29b-45a5-f864-a9f10bad7339"
      },
      "execution_count": 22,
      "outputs": [
        {
          "output_type": "stream",
          "name": "stdout",
          "text": [
            "tuple key\n"
          ]
        }
      ]
    }
  ]
}