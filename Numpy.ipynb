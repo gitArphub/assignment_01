{
  "nbformat": 4,
  "nbformat_minor": 0,
  "metadata": {
    "colab": {
      "provenance": []
    },
    "kernelspec": {
      "name": "python3",
      "display_name": "Python 3"
    },
    "language_info": {
      "name": "python"
    }
  },
  "cells": [
    {
      "cell_type": "markdown",
      "source": [
        "**1.Explain the purpose and advantages of NumPy in scientific computing and data analysis. How does it enhance Python's capabilities for numerical operations?**\n",
        "\n",
        "\n",
        "**Ans**. NumPy enhances Python's capabilities for numerical operations by providing fast, efficient array processing, supporting large multi-dimensional arrays and matrices, and offering a wide range of mathematical functions. Its purpose is to enable high-performance scientific computing and data analysis by optimizing operations using vectorization, which avoids Python loops and leverages optimized C code for speed. This makes numerical computations significantly faster and more memory-efficient than using Python's built-in data structures."
      ],
      "metadata": {
        "id": "mkfHfm2SysyM"
      }
    },
    {
      "cell_type": "markdown",
      "source": [
        "**2.Compare and contrast np.mean()and np.average()functions in NumPy. When would you use one over the other?**\n",
        "\n",
        "**Ans.**np.mean() calculates the simple arithmetic mean of array elements without considering weights, making it suitable for straightforward average calculations. In contrast, np.average() can compute a weighted average, where each element can have a different level of influence. Use np.mean() for basic averaging needs and np.average()when you need to account for weights in your data."
      ],
      "metadata": {
        "id": "GHqABBF1zPGk"
      }
    },
    {
      "cell_type": "markdown",
      "source": [
        "**3.Describe the methods for reversing a NumPy array along different axes. Provide examples for 1D and 2D arrays.**\n",
        "\n",
        "**Ans.**To reverse a NumPy array, you can use slicing or the np.flip() function:\n",
        "1D Array: You can reverse a 1D array using slicing:"
      ],
      "metadata": {
        "id": "oeyeG3qOzkTD"
      }
    },
    {
      "cell_type": "code",
      "source": [
        "import numpy as np # import the numpy library and alias it as np\n",
        "\n",
        "arr = np.array([1, 2, 3, 4, 5])\n",
        "reversed_arr = arr[::-1]  # Output: [5, 4, 3, 2, 1]\n",
        "print(reversed_arr)"
      ],
      "metadata": {
        "colab": {
          "base_uri": "https://localhost:8080/"
        },
        "id": "ZjzQtTqV0mwD",
        "outputId": "6328baa6-d8df-4f2d-eb66-eaa32d906f5a"
      },
      "execution_count": 1,
      "outputs": [
        {
          "output_type": "stream",
          "name": "stdout",
          "text": [
            "[5 4 3 2 1]\n"
          ]
        }
      ]
    },
    {
      "cell_type": "code",
      "source": [
        "#2D array\n",
        "\n",
        "arr = np.array([[1, 2, 3], [4, 5, 6], [7, 8, 9]])\n",
        "reversed_arr = arr[::-1, ::-1]  # Output: [[9, 8, 7], [6, 5, 4], [3, 2, 1]]\n",
        "print(reversed_arr)"
      ],
      "metadata": {
        "colab": {
          "base_uri": "https://localhost:8080/"
        },
        "id": "SK9w2RQL04sz",
        "outputId": "38da9e55-9e0d-486c-c504-1f61bc1942cc"
      },
      "execution_count": 2,
      "outputs": [
        {
          "output_type": "stream",
          "name": "stdout",
          "text": [
            "[[9 8 7]\n",
            " [6 5 4]\n",
            " [3 2 1]]\n"
          ]
        }
      ]
    },
    {
      "cell_type": "markdown",
      "source": [
        "**4.How can you determine the data type of elements in a NumPy array? Discuss the importance of data types in memory management and performance.**\n",
        "\n",
        "\n",
        "**Ans.**You can determine the data type of elements in a NumPy array using the .dtype attribute:"
      ],
      "metadata": {
        "id": "JPEXIzcn09M7"
      }
    },
    {
      "cell_type": "markdown",
      "source": [
        "**5. Define ndarrays in NumPy and explain their key features. How do they\n",
        "differ from standard Python lists?**\n",
        "\n",
        "**Ans.**ndarrays in NumPy are multi-dimensional arrays that store elements of the same data type in a contiguous block of memory. Key features include support for high-performance vectorized operations, built-in mathematical functions, and efficient slicing and indexing.\n",
        "\n",
        "Compared to standard Python lists, ndarrays offer:\n",
        "Faster computation: They use optimized C code under the hood.\n",
        "Lower memory usage: They store data more compactly."
      ],
      "metadata": {
        "id": "-aiRCVFH1V6L"
      }
    },
    {
      "cell_type": "markdown",
      "source": [
        "**6. Analyze the performance benefits of NumPy arrays over Python lists for large-scale numerical operations**\n",
        "\n",
        "**Ans.**NumPy arrays offer significant performance benefits over Python lists for large-scale numerical operations. This is because NumPy arrays use contiguous blocks of memory and are implemented in C, enabling them to perform vectorized operations without the need for Python loops. This results in faster execution and more efficient memory usage.\n",
        "\n",
        "For large datasets, NumPy's operations are highly optimized, often running orders of magnitude faster than equivalent operations with Python lists. Additionally, arrays have built-in functions for complex computations, which further speeds up processing compared to iterating manually with lists. This makes NumPy a powerful tool for handling large-scale numerical tasks efficiently."
      ],
      "metadata": {
        "id": "94-uOhsR1_j7"
      }
    },
    {
      "cell_type": "markdown",
      "source": [
        "**7.Compare vstack() and hstack()functions in NumPy. Provide examples demonstrating their usage and output.**\n",
        "**Ans**vstack() and hstack() in NumPy are used to stack arrays together vertically and horizontally, respectively:\n",
        "vstack(): Stacks arrays vertically (row-wise)."
      ],
      "metadata": {
        "id": "etG9TC3Z2KUS"
      }
    },
    {
      "cell_type": "code",
      "source": [
        "arr1 = np.array([1, 2, 3])\n",
        "arr2 = np.array([4, 5, 6])\n",
        "result = np.vstack((arr1, arr2))\n",
        "print(result)"
      ],
      "metadata": {
        "colab": {
          "base_uri": "https://localhost:8080/"
        },
        "id": "s6rwi5A225NC",
        "outputId": "9209d1d9-ee6b-4c51-f41d-166abdcc483a"
      },
      "execution_count": 3,
      "outputs": [
        {
          "output_type": "stream",
          "name": "stdout",
          "text": [
            "[[1 2 3]\n",
            " [4 5 6]]\n"
          ]
        }
      ]
    },
    {
      "cell_type": "code",
      "source": [
        "#hstack(): Stacks arrays horizontally (column-wise).\n",
        "arr1 = np.array([1, 2, 3])\n",
        "arr2 = np.array([4, 5, 6])\n",
        "result = np.hstack((arr1, arr2))\n",
        "print(result)"
      ],
      "metadata": {
        "colab": {
          "base_uri": "https://localhost:8080/"
        },
        "id": "wcZbnMr03EtK",
        "outputId": "4f42173f-d11c-4623-9a84-c36f7d16786d"
      },
      "execution_count": 4,
      "outputs": [
        {
          "output_type": "stream",
          "name": "stdout",
          "text": [
            "[1 2 3 4 5 6]\n"
          ]
        }
      ]
    },
    {
      "cell_type": "markdown",
      "source": [
        "**8. Explain the differences between fliplr() and flipud() methods in NumPy, including their effects on various array dimensions**\n",
        "\n",
        "**Ans.**fliplr() and flipud() in NumPy are used to flip arrays along different axes:\n",
        "fliplr(): Flips an array left to right (horizontally). It affects the columns of a 2D array by reversing their order."
      ],
      "metadata": {
        "id": "b2laF98b3aLD"
      }
    },
    {
      "cell_type": "code",
      "source": [
        "arr = np.array([[1, 2, 3], [4, 5, 6]])\n",
        "result = np.fliplr(arr)\n",
        "print(result)"
      ],
      "metadata": {
        "colab": {
          "base_uri": "https://localhost:8080/"
        },
        "id": "nRDUsj3T30Dy",
        "outputId": "793ac284-6f08-45a3-df1b-bd75e4ca995c"
      },
      "execution_count": 5,
      "outputs": [
        {
          "output_type": "stream",
          "name": "stdout",
          "text": [
            "[[3 2 1]\n",
            " [6 5 4]]\n"
          ]
        }
      ]
    },
    {
      "cell_type": "code",
      "source": [
        "arr = np.array([[1, 2, 3], [4, 5, 6]])\n",
        "result = np.flipud(arr)\n",
        "print(result)"
      ],
      "metadata": {
        "colab": {
          "base_uri": "https://localhost:8080/"
        },
        "id": "olzvyN1e3-tq",
        "outputId": "34ef1e44-9b6f-4ab2-f5b6-b208942ea917"
      },
      "execution_count": 6,
      "outputs": [
        {
          "output_type": "stream",
          "name": "stdout",
          "text": [
            "[[4 5 6]\n",
            " [1 2 3]]\n"
          ]
        }
      ]
    },
    {
      "cell_type": "markdown",
      "source": [
        "**9.Discuss the functionality of the array_split() method in NumPy. How does it handle uneven splits?**\n",
        "\n",
        "**Ans**The array_split()method in NumPy splits an array into specified sub-arrays. Unlike split(),it can handle cases where the array can't be split evenly. If the array's length doesn't divide evenly by the number of splits, array_split()ensures that sub-arrays will vary slightly in size, with some being larger than others."
      ],
      "metadata": {
        "id": "lT17Qf8z4GY6"
      }
    },
    {
      "cell_type": "code",
      "source": [
        "arr = np.array([1, 2, 3, 4, 5])\n",
        "splits = np.array_split(arr, 3)\n",
        "print(splits)"
      ],
      "metadata": {
        "colab": {
          "base_uri": "https://localhost:8080/"
        },
        "id": "0fz9-ORV4Xsy",
        "outputId": "ff0b119e-be55-4fed-d73e-bcfdf46e1c58"
      },
      "execution_count": 7,
      "outputs": [
        {
          "output_type": "stream",
          "name": "stdout",
          "text": [
            "[array([1, 2]), array([3, 4]), array([5])]\n"
          ]
        }
      ]
    },
    {
      "cell_type": "markdown",
      "source": [
        "**10.Explain the concepts of vectorization and broadcasting in NumPy. How do they contribute to efficient array\n",
        "operations?**\n",
        "\n",
        "**Ans**Vectorization and broadcasting in NumPy are techniques that make array operations faster and more efficient by reducing the need for explicit loops.\n",
        "Vectorization allows you to perform operations on entire arrays at once, rather than looping through individual elements. This leverages optimized, low-level code, often written in C, making it much faster than traditional Python loops.\n",
        "Broadcasting enables NumPy to handle arrays of different shapes in operations. For example, you can add a 1D array to a 2D array without explicitly reshaping. NumPy automatically “stretches” the smaller array along the necessary dimensions, allowing operations on mismatched shapes without additional memory overhead."
      ],
      "metadata": {
        "id": "3Eth0eC54Z_D"
      }
    },
    {
      "cell_type": "markdown",
      "source": [
        "**Practical Questions:**"
      ],
      "metadata": {
        "id": "XYYSoTyQ5EgB"
      }
    },
    {
      "cell_type": "markdown",
      "source": [
        "**1. Create a 3x3 NumPy array with random integers between 1 and 100. Then, interchange its rows and columns**\n",
        "\n",
        "**Ans.**First, create a 3x3 NumPy array with random integers between 1 and 100:\n"
      ],
      "metadata": {
        "id": "pkn3sSAg5JrC"
      }
    },
    {
      "cell_type": "code",
      "source": [
        "import numpy as np\n",
        "array = np.random.randint(1, 101, size=(3, 3))\n",
        "print(\"Original Array:\")\n",
        "print(array)"
      ],
      "metadata": {
        "colab": {
          "base_uri": "https://localhost:8080/"
        },
        "id": "PIp2fxYx5WAq",
        "outputId": "7da2beb4-3e37-4fc2-d644-ed15f2f9bbb4"
      },
      "execution_count": 8,
      "outputs": [
        {
          "output_type": "stream",
          "name": "stdout",
          "text": [
            "Original Array:\n",
            "[[61 88 64]\n",
            " [75 63 82]\n",
            " [22 23 83]]\n"
          ]
        }
      ]
    },
    {
      "cell_type": "code",
      "source": [
        "transposed_array = array.T\n",
        "print(\"Transposed Array:\")\n",
        "print(transposed_array)"
      ],
      "metadata": {
        "colab": {
          "base_uri": "https://localhost:8080/"
        },
        "id": "IkBxbvFx58YZ",
        "outputId": "5e8e9fb0-0ff5-48f3-f5b3-7fd8f4f55acc"
      },
      "execution_count": 10,
      "outputs": [
        {
          "output_type": "stream",
          "name": "stdout",
          "text": [
            "Transposed Array:\n",
            "[[61 75 22]\n",
            " [88 63 23]\n",
            " [64 82 83]]\n"
          ]
        }
      ]
    },
    {
      "cell_type": "markdown",
      "source": [
        "**2.Generate a 1D NumPy array with 10 elements. Reshape it into a 2x5 array, then into a 5x2 array.**\n",
        "\n",
        "**Ans**First, create a 1D NumPy array with 10 elements:\n"
      ],
      "metadata": {
        "id": "7LLGZ40v6I3u"
      }
    },
    {
      "cell_type": "code",
      "source": [
        "\n",
        "import numpy as np\n",
        "array = np.arange(10)\n",
        "print(\"Original 1D Array:\")\n",
        "print(array)"
      ],
      "metadata": {
        "colab": {
          "base_uri": "https://localhost:8080/"
        },
        "id": "84VQTBiH6p9p",
        "outputId": "07303747-8f0e-4ee1-bde5-55cfdfddfe1b"
      },
      "execution_count": 12,
      "outputs": [
        {
          "output_type": "stream",
          "name": "stdout",
          "text": [
            "Original 1D Array:\n",
            "[0 1 2 3 4 5 6 7 8 9]\n"
          ]
        }
      ]
    },
    {
      "cell_type": "code",
      "source": [
        "#Reshape it into a 2x5 array:\n",
        "array_2x5 = array.reshape(2, 5)\n",
        "print(\"2x5 Array:\")\n",
        "print(array_2x5)"
      ],
      "metadata": {
        "colab": {
          "base_uri": "https://localhost:8080/"
        },
        "id": "e6AmBmUx6zAh",
        "outputId": "eaae90ca-004b-4e3d-d1a0-3101cd32bd41"
      },
      "execution_count": 13,
      "outputs": [
        {
          "output_type": "stream",
          "name": "stdout",
          "text": [
            "2x5 Array:\n",
            "[[0 1 2 3 4]\n",
            " [5 6 7 8 9]]\n"
          ]
        }
      ]
    },
    {
      "cell_type": "code",
      "source": [
        "#Then reshape it into a 5x2 array:\n",
        "array_5x2 = array.reshape(5, 2)\n",
        "print(\"5x2 Array:\")\n",
        "print(array_5x2)"
      ],
      "metadata": {
        "colab": {
          "base_uri": "https://localhost:8080/"
        },
        "id": "NNPmfneF6_dq",
        "outputId": "e2b5ba79-6b50-4d4b-9eae-b011e075dbab"
      },
      "execution_count": 14,
      "outputs": [
        {
          "output_type": "stream",
          "name": "stdout",
          "text": [
            "5x2 Array:\n",
            "[[0 1]\n",
            " [2 3]\n",
            " [4 5]\n",
            " [6 7]\n",
            " [8 9]]\n"
          ]
        }
      ]
    },
    {
      "cell_type": "markdown",
      "source": [
        "**3. Create a 4x4 NumPy array with random float values. Add a border of zeros around it, resulting in a 6x6 array.**\n",
        "\n"
      ],
      "metadata": {
        "id": "kO25L3wh7L-5"
      }
    },
    {
      "cell_type": "code",
      "source": [
        "#First, create a 4x4 array with random float values:\n",
        "import numpy as np\n",
        "array = np.random.rand(4, 4)\n",
        "print(\"Original 4x4 Array:\")\n",
        "print(array)"
      ],
      "metadata": {
        "id": "m8Bh-JRB8ZZh"
      },
      "execution_count": null,
      "outputs": []
    },
    {
      "cell_type": "code",
      "source": [
        "#Add a border of zeros around it, resulting in a 6x6 array:\n",
        "\n",
        "bordered_array = np.pad(array, pad_width=1, mode='constant', constant_values=0)\n",
        "print(\"6x6 Array with Border of Zeros:\")\n",
        "print(bordered_array)\n",
        "#The np.pad function adds a border of zeros with a width of 1 around the original array."
      ],
      "metadata": {
        "colab": {
          "base_uri": "https://localhost:8080/"
        },
        "id": "JYl8Uyl99BsA",
        "outputId": "a3d15e9e-4a7f-4dc5-bd71-72b23072861d"
      },
      "execution_count": 17,
      "outputs": [
        {
          "output_type": "stream",
          "name": "stdout",
          "text": [
            "6x6 Array with Border of Zeros:\n",
            "[ 0 10 15 20 25 30 35 40 45 50 55 60  0]\n"
          ]
        }
      ]
    },
    {
      "cell_type": "markdown",
      "source": [
        "**4. Using NumPy, create an array of integers from 10 to 60 with a step of 5**\n"
      ],
      "metadata": {
        "id": "YJNYVtoS8Zrx"
      }
    },
    {
      "cell_type": "code",
      "source": [
        "import numpy as np\n",
        "array = np.arange(10, 65, 5)\n",
        "print(array)\n",
        "#This will generate an array: [10, 15, 20, 25, 30, 35, 40, 45, 50, 55, 60] where each element increases by 5."
      ],
      "metadata": {
        "colab": {
          "base_uri": "https://localhost:8080/"
        },
        "id": "k6V3JdY18hdI",
        "outputId": "07e22c81-fc0e-4238-9301-6498aba6c4db"
      },
      "execution_count": 16,
      "outputs": [
        {
          "output_type": "stream",
          "name": "stdout",
          "text": [
            "[10 15 20 25 30 35 40 45 50 55 60]\n"
          ]
        }
      ]
    },
    {
      "cell_type": "markdown",
      "source": [
        "**5. Create a NumPy array of strings ['python', 'numpy', 'pandas']. Apply different case transformations\n",
        "(uppercase, lowercase, title case, etc.) to each element.**\n"
      ],
      "metadata": {
        "id": "e69MZmWD9RSP"
      }
    },
    {
      "cell_type": "code",
      "source": [
        "#Here’s how you can do it using NumPy:\n",
        "\n",
        "import numpy as np\n",
        "\n",
        "# Create the array of strings\n",
        "array = np.array(['python', 'numpy', 'pandas'])\n",
        "\n",
        "# Apply different case transformations\n",
        "uppercase_array = np.char.upper(array)\n",
        "lowercase_array = np.char.lower(array)\n",
        "titlecase_array = np.char.title(array)\n",
        "\n",
        "print(\"Original Array:\", array)\n",
        "print(\"Uppercase:\", uppercase_array)\n",
        "print(\"Lowercase:\", lowercase_array)\n",
        "print(\"Title Case:\", titlecase_array)"
      ],
      "metadata": {
        "colab": {
          "base_uri": "https://localhost:8080/"
        },
        "id": "0TCSIdm09Yko",
        "outputId": "12b91e21-4960-4cbd-e817-68c61e190c03"
      },
      "execution_count": 18,
      "outputs": [
        {
          "output_type": "stream",
          "name": "stdout",
          "text": [
            "Original Array: ['python' 'numpy' 'pandas']\n",
            "Uppercase: ['PYTHON' 'NUMPY' 'PANDAS']\n",
            "Lowercase: ['python' 'numpy' 'pandas']\n",
            "Title Case: ['Python' 'Numpy' 'Pandas']\n"
          ]
        }
      ]
    },
    {
      "cell_type": "markdown",
      "source": [
        "**6. Generate a NumPy array of words. Insert a space between each character of every word in the array**"
      ],
      "metadata": {
        "id": "dldAcc719eh4"
      }
    },
    {
      "cell_type": "code",
      "source": [
        "import numpy as np\n",
        "words = np.array(['python', 'numpy', 'pandas'])\n",
        "#Use np.char.join to insert a space between each character in each word:\n",
        "print(np.char.join(' ', words))"
      ],
      "metadata": {
        "colab": {
          "base_uri": "https://localhost:8080/"
        },
        "id": "AIq_vSqD9gQY",
        "outputId": "54d9fd24-bd19-422f-f263-b3749ab6ac45"
      },
      "execution_count": 21,
      "outputs": [
        {
          "output_type": "stream",
          "name": "stdout",
          "text": [
            "['p y t h o n' 'n u m p y' 'p a n d a s']\n"
          ]
        }
      ]
    },
    {
      "cell_type": "markdown",
      "source": [
        "**7.Create two 2D NumPy arrays and perform element-wise addition, subtraction, multiplication, and division.**\n",
        "\n",
        "**Ans**"
      ],
      "metadata": {
        "id": "SBVIoAke-QkS"
      }
    },
    {
      "cell_type": "code",
      "source": [
        "import numpy as np\n",
        "words = np.array(['python', 'numpy', 'pandas'])\n",
        "print(\"Original Array:\", words)\n",
        "spaced_words = np.char.join(' ', words)\n",
        "print(\"Spaced Array:\", spaced_words)"
      ],
      "metadata": {
        "colab": {
          "base_uri": "https://localhost:8080/"
        },
        "id": "IevPqUE3-YIX",
        "outputId": "52a9ddfe-8b4f-4737-ee95-c887f6774cc4"
      },
      "execution_count": 22,
      "outputs": [
        {
          "output_type": "stream",
          "name": "stdout",
          "text": [
            "Original Array: ['python' 'numpy' 'pandas']\n",
            "Spaced Array: ['p y t h o n' 'n u m p y' 'p a n d a s']\n"
          ]
        }
      ]
    },
    {
      "cell_type": "markdown",
      "source": [
        "**8. Use NumPy to create a 5x5 identity matrix, then extract its diagonal elements.**\n",
        "**Ans**"
      ],
      "metadata": {
        "id": "u811mFTJ-eco"
      }
    },
    {
      "cell_type": "code",
      "source": [
        "import numpy as np\n",
        "identity_matrix = np.eye(5)\n",
        "print(\"5x5 Identity Matrix:\")\n",
        "print(identity_matrix)"
      ],
      "metadata": {
        "colab": {
          "base_uri": "https://localhost:8080/"
        },
        "id": "r5XGEfu2-hgn",
        "outputId": "070b6429-2ca3-425b-8483-dcb4bc54306f"
      },
      "execution_count": 23,
      "outputs": [
        {
          "output_type": "stream",
          "name": "stdout",
          "text": [
            "5x5 Identity Matrix:\n",
            "[[1. 0. 0. 0. 0.]\n",
            " [0. 1. 0. 0. 0.]\n",
            " [0. 0. 1. 0. 0.]\n",
            " [0. 0. 0. 1. 0.]\n",
            " [0. 0. 0. 0. 1.]]\n"
          ]
        }
      ]
    },
    {
      "cell_type": "code",
      "source": [
        "diagonal_elements = np.diag(identity_matrix)\n",
        "print(\"Diagonal Elements:\")\n",
        "print(diagonal_elements)"
      ],
      "metadata": {
        "colab": {
          "base_uri": "https://localhost:8080/"
        },
        "id": "K4b7S-5V-mO3",
        "outputId": "fa3a8664-a58d-4d57-9a1f-8644fc3e4462"
      },
      "execution_count": 24,
      "outputs": [
        {
          "output_type": "stream",
          "name": "stdout",
          "text": [
            "Diagonal Elements:\n",
            "[1. 1. 1. 1. 1.]\n"
          ]
        }
      ]
    },
    {
      "cell_type": "markdown",
      "source": [
        "**9. Generate a NumPy array of 100 random integers between 0 and 1000. Find and display all prime numbers in\n",
        "this array**\n",
        "\n",
        "**Ans**"
      ],
      "metadata": {
        "id": "1VxFQc7g-zNE"
      }
    },
    {
      "cell_type": "code",
      "source": [
        "import numpy as np\n",
        "array = np.random.randint(0, 1000, 100)\n",
        "print(\"Array of 100 Random Integers:\")\n",
        "print(array)"
      ],
      "metadata": {
        "colab": {
          "base_uri": "https://localhost:8080/"
        },
        "id": "vWYqwGL8_BLv",
        "outputId": "8121e176-fd12-400b-947b-45fbb85a7830"
      },
      "execution_count": 25,
      "outputs": [
        {
          "output_type": "stream",
          "name": "stdout",
          "text": [
            "Array of 100 Random Integers:\n",
            "[124 818 231 294 600 770 676 167 742 726 587   5 452 149 441 603  97 342\n",
            " 196 229 598 276  72 785 460 947 864  26 658 163 142 787 709 354 957 217\n",
            " 929 308 355 902 430 601 675 293 394 871 677 834 696 879 735 804 496 342\n",
            " 919 752 182 556 925 878 227 734  31 464 238 366  22 771  49 349 412 171\n",
            " 561 805 929 572 800 256 440 507 414 666 357 809 186 866 325 595 745   0\n",
            " 849  61 360 926 581 882 657 246 537 261]\n"
          ]
        }
      ]
    },
    {
      "cell_type": "code",
      "source": [
        "def is_prime(n):\n",
        "    if n < 2:\n",
        "        return False\n",
        "    for i in range(2, int(np.sqrt(n)) + 1):\n",
        "        if n % i == 0:\n",
        "            return False\n",
        "    return True\n",
        "    print(\"Prime Numbers:\")\n",
        "prime_numbers = [num for num in array if is_prime(num)]\n",
        "print(prime_numbers)"
      ],
      "metadata": {
        "colab": {
          "base_uri": "https://localhost:8080/"
        },
        "id": "LNYiG1fD_HE3",
        "outputId": "d7901581-0ce6-4557-c3e5-f40fbefa39f3"
      },
      "execution_count": 26,
      "outputs": [
        {
          "output_type": "stream",
          "name": "stdout",
          "text": [
            "[167, 587, 5, 149, 97, 229, 947, 163, 787, 709, 929, 601, 293, 677, 919, 227, 31, 349, 929, 809, 61]\n"
          ]
        }
      ]
    },
    {
      "cell_type": "markdown",
      "source": [
        "**10. Create a NumPy array representing daily temperatures for a month. Calculate and display the weekly averages.**\n",
        "\n",
        "\n",
        "**Ans**"
      ],
      "metadata": {
        "id": "Hn_uQVkP_Iuf"
      }
    },
    {
      "cell_type": "code",
      "source": [
        "import numpy as np\n",
        "# Example temperatures between 20 and 35 degrees Celsius\n",
        "daily_temperatures = np.random.randint(20, 36, size=30)\n",
        "print(\"Daily Temperatures for a Month:\")\n",
        "print(daily_temperatures)\n",
        "weekly_temperatures = daily_temperatures[:28].reshape(4, 7)  # Only take the first 28 days for full weeks\n",
        "print(\"\\nTemperatures Reshaped into Weeks:\")\n",
        "print(weekly_temperatures)\n",
        "weekly_temperatures = daily_temperatures[:28].reshape(4, 7)  # Only take the first 28 days for full weeks\n",
        "print(\"\\nTemperatures Reshaped into Weeks:\")\n",
        "print(weekly_temperatures)"
      ],
      "metadata": {
        "colab": {
          "base_uri": "https://localhost:8080/"
        },
        "id": "Zr1R2aqz_s7G",
        "outputId": "f381e84c-c6c2-4ce3-cf79-76e0e678b84c"
      },
      "execution_count": 27,
      "outputs": [
        {
          "output_type": "stream",
          "name": "stdout",
          "text": [
            "Daily Temperatures for a Month:\n",
            "[25 21 32 28 23 31 30 22 24 26 29 32 24 22 26 35 29 31 33 27 29 20 28 20\n",
            " 25 29 20 20 21 22]\n",
            "\n",
            "Temperatures Reshaped into Weeks:\n",
            "[[25 21 32 28 23 31 30]\n",
            " [22 24 26 29 32 24 22]\n",
            " [26 35 29 31 33 27 29]\n",
            " [20 28 20 25 29 20 20]]\n",
            "\n",
            "Temperatures Reshaped into Weeks:\n",
            "[[25 21 32 28 23 31 30]\n",
            " [22 24 26 29 32 24 22]\n",
            " [26 35 29 31 33 27 29]\n",
            " [20 28 20 25 29 20 20]]\n"
          ]
        }
      ]
    }
  ]
}